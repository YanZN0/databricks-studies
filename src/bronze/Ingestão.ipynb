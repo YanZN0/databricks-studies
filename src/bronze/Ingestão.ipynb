{
 "cells": [
  {
   "cell_type": "code",
   "execution_count": 0,
   "metadata": {
    "application/vnd.databricks.v1+cell": {
     "cellMetadata": {
      "byteLimit": 2048000,
      "rowLimit": 10000
     },
     "inputWidgets": {},
     "nuid": "052e52d3-6ccb-453e-8687-1adb2c491adf",
     "showTitle": true,
     "tableResultSettingsMap": {},
     "title": "Imports"
    }
   },
   "outputs": [],
   "source": [
    "import delta\n",
    "import sys\n",
    "import json\n",
    "\n",
    "sys.path.insert(0, \"../lib/\")   # Importando funções/classes da Lib.\n",
    "\n",
    "import utils\n",
    "import ingestors"
   ]
  },
  {
   "cell_type": "code",
   "execution_count": 0,
   "metadata": {
    "application/vnd.databricks.v1+cell": {
     "cellMetadata": {
      "byteLimit": 2048000,
      "implicitDf": true,
      "rowLimit": 10000
     },
     "inputWidgets": {},
     "nuid": "96e44336-2e23-4743-a7bc-eab385f399f3",
     "showTitle": false,
     "tableResultSettingsMap": {},
     "title": ""
    }
   },
   "outputs": [],
   "source": [
    "%sql\n",
    "select * from  bronze.olist_ecommerce.order_payments"
   ]
  },
  {
   "cell_type": "code",
   "execution_count": 0,
   "metadata": {
    "application/vnd.databricks.v1+cell": {
     "cellMetadata": {
      "byteLimit": 2048000,
      "rowLimit": 10000
     },
     "inputWidgets": {},
     "nuid": "10c4ccec-6dee-4a66-98d0-abfa528d164c",
     "showTitle": true,
     "tableResultSettingsMap": {},
     "title": "SETUP"
    }
   },
   "outputs": [],
   "source": [
    "catalog = 'bronze'\n",
    "schemaname = 'olist_ecommerce'\n",
    "\n",
    "## Exemplos para teste\n",
    "# tablename = \"customers\"\n",
    "# id_field = \"customer_id\"\n",
    "# timestamp_field = \"modified_at\"\n",
    "\n",
    "tablename = dbutils.widgets.get('tablename')\n",
    "id_field = dbutils.widgets.get('id_field')\n",
    "timestamp_field = dbutils.widgets.get('timestamp_field')\n",
    "\n",
    "checkpoint_location = f\"/Volumes/raw/{schemaname}/cdc/{tablename}_checkpoint/\"\n",
    "full_load_path = f\"/Volumes/raw/{schemaname}/full_load/{tablename}/\"\n",
    "cdc_path = f\"/Volumes/raw/{schemaname}/cdc/{tablename}/\"\n"
   ]
  },
  {
   "cell_type": "code",
   "execution_count": 0,
   "metadata": {
    "application/vnd.databricks.v1+cell": {
     "cellMetadata": {
      "byteLimit": 2048000,
      "rowLimit": 10000
     },
     "inputWidgets": {},
     "nuid": "8692892d-3303-44a8-8fa0-a333187f2dbf",
     "showTitle": true,
     "tableResultSettingsMap": {},
     "title": "Ingestão Full Load Camada Bronze"
    }
   },
   "outputs": [],
   "source": [
    "# Esta camada de código tem o objetivo de fazer a ingestão de um arquivo Full Load na pasta de Bronze. \n",
    "# O arquivo Full Load é uma Tabela em formato CSV, que contém dados mas que precisam ser atualizados através de arquivos\n",
    "# CDC (Change Data Capture).\n",
    "\n",
    "# Nesta parte do código, precisamos primeiro ler o arquivo CSV com o Spark que logo após a leitura se transforma em um\n",
    "# Dataframe. \n",
    "# No código podemos notar .option(\"header\", \"true\"), utilizei esse comando pois com ele conseguimos nos comunicar\n",
    "# com o Spark e dizer que o arquivo CSV contém cabeçalho, ou seja, nome de colunas presentes na primeira.\n",
    "\n",
    "if not utils.table_exists(spark, catalog, schemaname, tablename): # Utilizando um IF, Se a tabela existir a função retorna 1 \n",
    "# e não faz nada. Mas se a tabela não existir faz a ingestão da full load na camada de Bronze.\n",
    "\n",
    "  print('Tabela não existente. Criando...')\n",
    "\n",
    "  dbutils.fs.rm(checkpoint_location, True)\n",
    "\n",
    "  ingest_full_load = ingestors.Ingestion_Full_Load_In_Bronze(spark=spark,\n",
    "                                                            catalog=catalog, \n",
    "                                                            schemaname=schemaname, \n",
    "                                                            tablename=tablename, \n",
    "                                                            data_format=\"csv\")\n",
    "  \n",
    "  ingest_full_load.execute(full_load_path)\n",
    "\n",
    "  print(\"Tabela criada com sucesso !!!\")\n",
    "  \n",
    "else:\n",
    "  print('Tabela já existente :/')"
   ]
  },
  {
   "cell_type": "code",
   "execution_count": 0,
   "metadata": {
    "application/vnd.databricks.v1+cell": {
     "cellMetadata": {
      "byteLimit": 2048000,
      "rowLimit": 10000
     },
     "inputWidgets": {},
     "nuid": "c40399f2-d6a4-4c4f-9dcd-fa8daeddd855",
     "showTitle": false,
     "tableResultSettingsMap": {},
     "title": ""
    }
   },
   "outputs": [],
   "source": []
  },
  {
   "cell_type": "code",
   "execution_count": 0,
   "metadata": {
    "application/vnd.databricks.v1+cell": {
     "cellMetadata": {
      "byteLimit": 2048000,
      "implicitDf": true,
      "rowLimit": 10000
     },
     "inputWidgets": {},
     "nuid": "bbbdbf45-fa1e-48a7-b0e5-d5b6e78d7e34",
     "showTitle": true,
     "tableResultSettingsMap": {},
     "title": "Importação de Arquivos CDC"
    }
   },
   "outputs": [],
   "source": [
    "# Nesta camada de código preciso da importação de arquivos CDC. Onde no futuro esses arquivos que precisam ser atualizados\n",
    "# serão a principal fonte de dados para a atualização da Tabela presente no Schema Bronze.\n",
    "\n",
    "ingest_cdc = ingestors.IngestionCDC(spark=spark,\n",
    "                                    catalog=catalog,\n",
    "                                    schemaname=schemaname,\n",
    "                                    tablename=tablename,\n",
    "                                    data_format=\"csv\",\n",
    "                                    id_field=id_field,\n",
    "                                    timestamp_field=timestamp_field)\n",
    "\n",
    "stream = ingest_cdc.execute(cdc_path)"
   ]
  }
 ],
 "metadata": {
  "application/vnd.databricks.v1+notebook": {
   "computePreferences": null,
   "dashboards": [],
   "environmentMetadata": {
    "base_environment": "",
    "environment_version": "2"
   },
   "inputWidgetPreferences": null,
   "language": "python",
   "notebookMetadata": {
    "mostRecentlyExecutedCommandWithImplicitDF": {
     "commandId": 8874830198594269,
     "dataframes": [
      "_sqldf"
     ]
    },
    "pythonIndentUnit": 4
   },
   "notebookName": "Ingestão",
   "widgets": {}
  },
  "language_info": {
   "name": "python"
  }
 },
 "nbformat": 4,
 "nbformat_minor": 0
}
